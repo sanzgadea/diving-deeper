{
 "cells": [
  {
   "cell_type": "markdown",
   "metadata": {},
   "source": [
    "# Download FathomNet-FGVC 2023 images\n",
    "## March 24, 2023\n",
    "\n",
    "This notebook downloads images for the [FathomNet 2023 Competition](https://www.kaggle.com/competitions/fathomnet-out-of-sample-detection/overview). It assumes that the dataset has been downloaded from Kaggle and retains the original directory structure:\n",
    "\n",
    "```\n",
    "../fathomnet-out-of-sample-detection\n",
    "    |\n",
    "    |____multilabel_classification\n",
    "    |  |____train.csv\n",
    "    |____object_detection\n",
    "    |  |____eval.json\n",
    "    |  |____train.json\n",
    "    |____category_key.csv\n",
    "    |____demo_download.ipynb\n",
    "    |____download_images.py\n",
    "    |____requirements.txt\n",
    "    |____sample_submission.csv\n",
    "```"
   ]
  },
  {
   "cell_type": "markdown",
   "metadata": {},
   "source": [
    "### Install requirements\n",
    "This installs the requirements in the current python3 environment."
   ]
  },
  {
   "cell_type": "code",
   "execution_count": 1,
   "metadata": {},
   "outputs": [
    {
     "name": "stdout",
     "output_type": "stream",
     "text": [
      "# conda environments:\n",
      "#\n",
      "base                     C:\\Users\\mundi\\anaconda3\n",
      "board                    C:\\Users\\mundi\\anaconda3\\envs\\board\n",
      "chat                     C:\\Users\\mundi\\anaconda3\\envs\\chat\n",
      "cs4240                *  C:\\Users\\mundi\\anaconda3\\envs\\cs4240\n",
      "deltacnn                 C:\\Users\\mundi\\anaconda3\\envs\\deltacnn\n",
      "pytorch_env              C:\\Users\\mundi\\anaconda3\\envs\\pytorch_env\n",
      "\n"
     ]
    }
   ],
   "source": [
    "!conda env list"
   ]
  },
  {
   "cell_type": "code",
   "execution_count": 2,
   "metadata": {},
   "outputs": [
    {
     "name": "stdout",
     "output_type": "stream",
     "text": [
      "Collecting package metadata (current_repodata.json): ...working... done\n",
      "Solving environment: ...working... failed with initial frozen solve. Retrying with flexible solve.\n",
      "Collecting package metadata (repodata.json): ...working... done\n",
      "Solving environment: ...working... failed with initial frozen solve. Retrying with flexible solve.\n"
     ]
    },
    {
     "name": "stderr",
     "output_type": "stream",
     "text": [
      "\n",
      "PackagesNotFoundError: The following packages are not available from current channels:\n",
      "\n",
      "  - mkl-random==1.2.2\n",
      "  - mkl-fft==1.3.1\n",
      "\n",
      "Current channels:\n",
      "\n",
      "  - https://repo.anaconda.com/pkgs/main/win-64\n",
      "  - https://repo.anaconda.com/pkgs/main/noarch\n",
      "  - https://repo.anaconda.com/pkgs/r/win-64\n",
      "  - https://repo.anaconda.com/pkgs/r/noarch\n",
      "  - https://repo.anaconda.com/pkgs/msys2/win-64\n",
      "  - https://repo.anaconda.com/pkgs/msys2/noarch\n",
      "\n",
      "To search for alternate channels that may provide the conda package you're\n",
      "looking for, navigate to\n",
      "\n",
      "    https://anaconda.org\n",
      "\n",
      "and use the search bar at the top of the page.\n",
      "\n",
      "\n"
     ]
    }
   ],
   "source": [
    "!conda install --file requirements.txt"
   ]
  },
  {
   "cell_type": "code",
   "execution_count": null,
   "metadata": {},
   "outputs": [],
   "source": [
    "%pip install -r requirements.txt"
   ]
  },
  {
   "cell_type": "markdown",
   "metadata": {},
   "source": [
    "### Start download\n",
    "\n",
    "First download the training data. The script `download_images.py` will by default create a new directory called `images` where all the downloaded files will live. If you want the images to live someplace else on your local machine, specify an output directory using the `--outpath` flag. This may take upwards of an hour depending on your internet connection. "
   ]
  },
  {
   "cell_type": "code",
   "execution_count": 3,
   "metadata": {},
   "outputs": [
    {
     "name": "stdout",
     "output_type": "stream",
     "text": [
      "^C\n"
     ]
    }
   ],
   "source": [
    "!python download_images.py object_detection/train.json "
   ]
  },
  {
   "cell_type": "markdown",
   "metadata": {},
   "source": [
    "Now download the evaluation data. Again, if you want to save the images to a different directory, please specify the location with the `--outpath` flag. "
   ]
  },
  {
   "cell_type": "code",
   "execution_count": null,
   "metadata": {},
   "outputs": [],
   "source": [
    "!python download_images.py object_detection/eval.json"
   ]
  }
 ],
 "metadata": {
  "kernelspec": {
   "display_name": "Python 3 (ipykernel)",
   "language": "python",
   "name": "python3"
  },
  "language_info": {
   "codemirror_mode": {
    "name": "ipython",
    "version": 3
   },
   "file_extension": ".py",
   "mimetype": "text/x-python",
   "name": "python",
   "nbconvert_exporter": "python",
   "pygments_lexer": "ipython3",
   "version": "3.8.16"
  }
 },
 "nbformat": 4,
 "nbformat_minor": 2
}
